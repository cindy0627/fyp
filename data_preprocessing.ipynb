{
 "cells": [
  {
   "cell_type": "code",
   "execution_count": 1,
   "id": "6ff57297",
   "metadata": {},
   "outputs": [],
   "source": [
    "import sklearn\n",
    "import pandas as pd\n",
    "import numpy as np\n",
    "import matplotlib.pyplot as plt\n",
    "import seaborn as sns\n",
    "\n",
    "#Read in data from CSV files using pandas read_csv \n",
    "labs = pd.read_csv('labs.csv')\n",
    "exam = pd.read_csv('examination.csv')\n",
    "demo = pd.read_csv('demographic.csv')\n",
    "diet = pd.read_csv('diet.csv')\n",
    "ques = pd.read_csv('questionnaire.csv')\n",
    "\n",
    "#Remove the SEQN column from examination, demographic, diet, and questionnaire dataframes\n",
    "exam.drop(['SEQN'], axis = 1, inplace=True)\n",
    "demo.drop(['SEQN'], axis = 1, inplace=True)\n",
    "diet.drop(['SEQN'], axis = 1, inplace=True)\n",
    "ques.drop(['SEQN'], axis = 1, inplace=True)\n",
    "\n",
    "#Concatenate the dataframes along columns (axis=1) using inner join and store the resulting dataframe in 'df'\n",
    "df = pd.concat([labs, exam], axis=1, join='inner')\n",
    "df = pd.concat([df, demo], axis=1, join='inner')\n",
    "df = pd.concat([df, diet], axis=1, join='inner')\n",
    "df = pd.concat([df, ques], axis=1, join='inner')"
   ]
  },
  {
   "cell_type": "code",
   "execution_count": 2,
   "id": "0a8f57f1",
   "metadata": {},
   "outputs": [],
   "source": [
    "d= df"
   ]
  },
  {
   "cell_type": "code",
   "execution_count": 3,
   "id": "a778ad1f",
   "metadata": {},
   "outputs": [],
   "source": [
    "#Data standardization\n",
    "d.replace({7:None, 9:None, 77:None,99:None,777:None,999:None,7777:None,9999:None,77777:None,99999:None,\n",
    "            777777:None,999999:None,55:None,555:None,5555:None,8:None,88:None}, inplace=True)"
   ]
  },
  {
   "cell_type": "code",
   "execution_count": 4,
   "id": "ad2d5840",
   "metadata": {},
   "outputs": [],
   "source": [
    "#Removing highly specific columns, HPV type, specific tooth missing, sample weights, metadata\n",
    "drop_cols = [ \n",
    "             'BPQ080', 'LBDBANO','OHX01TC', 'OHX02TC', 'OHX03TC', 'OHX04TC', 'OHX05TC', 'OHX06TC', 'OHX07TC', 'OHX08TC', 'OHX09TC', \n",
    "             'OHX10TC', 'OHX11TC', 'OHX12TC', 'OHX13TC', 'OHX14TC', 'OHX15TC', 'OHX16TC', 'OHX17TC', 'OHX18TC', 'OHX19TC', 'OHX20TC', 'OHX21TC', 'OHX22TC', 'OHX23TC', 'OHX24TC', \n",
    "             'OHX25TC', 'OHX26TC', 'OHX27TC', 'OHX28TC', 'OHX29TC', 'OHX30TC', 'OHX31TC', 'OHX32TC', 'OHX02CTC', 'OHX03CTC', 'OHX04CTC', 'OHX05CTC', 'OHX06CTC', 'OHX07CTC', \n",
    "             'OHX08CTC', 'OHX09CTC', 'OHX10CTC', 'OHX11CTC', 'OHX12CTC', 'OHX13CTC', 'OHX14CTC', 'OHX15CTC', 'OHX18CTC', 'OHX19CTC', 'OHX20CTC', 'OHX21CTC', 'OHX22CTC', \n",
    "             'OHX23CTC', 'OHX24CTC', 'OHX25CTC', 'OHX26CTC', 'OHX27CTC', 'OHX28CTC', 'OHX29CTC', 'OHX30CTC', 'OHX31CTC','DMDHRAGE','WTINT2YR','WTMEC2YR','SEQN','RIDSTATR'\n",
    "            ]\n",
    "d.drop(drop_cols, axis=1,inplace=True)"
   ]
  },
  {
   "cell_type": "code",
   "execution_count": 5,
   "id": "5e3b45da",
   "metadata": {},
   "outputs": [],
   "source": [
    "#Move to Weka for quick remove of string and non-vary attributes\n",
    "#d.to_csv(r'1.csv', index=False)"
   ]
  },
  {
   "cell_type": "code",
   "execution_count": 6,
   "id": "c95e1c06",
   "metadata": {},
   "outputs": [],
   "source": [
    "#Weka file back to jupyternotebook\n",
    "df = pd.read_csv('weka.csv')"
   ]
  },
  {
   "cell_type": "code",
   "execution_count": 7,
   "id": "30df941a",
   "metadata": {},
   "outputs": [
    {
     "data": {
      "text/plain": [
       "2    2910\n",
       "1    2647\n",
       "Name: RIAGENDR, dtype: int64"
      ]
     },
     "execution_count": 7,
     "metadata": {},
     "output_type": "execute_result"
    }
   ],
   "source": [
    "#Changing RIAGENDR back to 1(male), 2(female) \n",
    "df['RIAGENDR']=df.apply(lambda x: 1 if x.RIAGENDR == 'male' else 2, axis='columns')\n",
    "df.RIAGENDR.value_counts()"
   ]
  },
  {
   "cell_type": "code",
   "execution_count": 8,
   "id": "2d85efa6",
   "metadata": {},
   "outputs": [
    {
     "name": "stdout",
     "output_type": "stream",
     "text": [
      "642 columns left\n"
     ]
    }
   ],
   "source": [
    "new_df=df\n",
    "# less than 40% non-null values will be dropped\n",
    "new_df= new_df.dropna(thresh = 0.4*len(new_df), axis =1)\n",
    "\n",
    "print(len(new_df.columns), 'columns left')"
   ]
  },
  {
   "cell_type": "code",
   "execution_count": 9,
   "id": "90c9e8d0",
   "metadata": {},
   "outputs": [],
   "source": [
    "#Fillin with most_frequent\n",
    "from sklearn.impute import SimpleImputer\n",
    "imp_mode=SimpleImputer(strategy='most_frequent')\n",
    "df_mostfre = pd.DataFrame(imp_mode.fit_transform(new_df), columns=new_df.columns)\n"
   ]
  },
  {
   "cell_type": "code",
   "execution_count": 10,
   "id": "069129ee",
   "metadata": {},
   "outputs": [],
   "source": [
    "#Move stroke target class to the last\n",
    "cols = df_mostfre.columns.tolist()\n",
    "cols.append(cols.pop(cols.index('MCQ160F')))\n",
    "df_mostfre = df_mostfre[cols]"
   ]
  },
  {
   "cell_type": "code",
   "execution_count": 11,
   "id": "d3882e95",
   "metadata": {},
   "outputs": [],
   "source": [
    "#Export df for stroke model\n",
    "df_mostfre.to_csv(r'df_mostfre_stroke_.csv', index=False)"
   ]
  },
  {
   "cell_type": "code",
   "execution_count": 12,
   "id": "6a4ad2d9",
   "metadata": {},
   "outputs": [],
   "source": [
    "#Move diabetes target class to the last\n",
    "cols = df_mostfre.columns.tolist()\n",
    "cols.append(cols.pop(cols.index('DIQ010')))\n",
    "df_mostfre = df_mostfre[cols]"
   ]
  },
  {
   "cell_type": "code",
   "execution_count": 13,
   "id": "42d5cb66",
   "metadata": {},
   "outputs": [],
   "source": [
    "#Export df for diabetes model\n",
    "df_mostfre.to_csv(r'df_mostfre_diabetes_.csv', index=False)"
   ]
  }
 ],
 "metadata": {
  "kernelspec": {
   "display_name": "Python 3 (ipykernel)",
   "language": "python",
   "name": "python3"
  },
  "language_info": {
   "codemirror_mode": {
    "name": "ipython",
    "version": 3
   },
   "file_extension": ".py",
   "mimetype": "text/x-python",
   "name": "python",
   "nbconvert_exporter": "python",
   "pygments_lexer": "ipython3",
   "version": "3.9.7"
  }
 },
 "nbformat": 4,
 "nbformat_minor": 5
}
